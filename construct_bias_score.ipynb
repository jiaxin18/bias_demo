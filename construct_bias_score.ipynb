{
 "cells": [
  {
   "cell_type": "code",
   "execution_count": 1,
   "metadata": {},
   "outputs": [],
   "source": [
    "%load_ext autoreload\n",
    "%autoreload 2"
   ]
  },
  {
   "cell_type": "code",
   "execution_count": 2,
   "metadata": {},
   "outputs": [],
   "source": [
    "import torch\n",
    "import pandas as pd\n",
    "import numpy as np\n",
    "from pathlib import Path\n",
    "from typing import *\n",
    "import matplotlib.pyplot as plt\n",
    "%matplotlib inline"
   ]
  },
  {
   "cell_type": "code",
   "execution_count": 3,
   "metadata": {},
   "outputs": [],
   "source": [
    "import sys\n",
    "sys.path.append(\"../lib\")"
   ]
  },
  {
   "cell_type": "code",
   "execution_count": 4,
   "metadata": {},
   "outputs": [
    {
     "name": "stderr",
     "output_type": "stream",
     "text": [
      "C:\\Users\\Mac\\anaconda3\\envs\\sat\\lib\\importlib\\_bootstrap.py:219: RuntimeWarning: greenlet.greenlet size changed, may indicate binary incompatibility. Expected 152, got 144\n",
      "  return f(*args, **kwds)\n",
      "C:\\Users\\Mac\\anaconda3\\envs\\sat\\lib\\importlib\\_bootstrap.py:219: RuntimeWarning: greenlet.greenlet size changed, may indicate binary incompatibility. Expected 152, got 144\n",
      "  return f(*args, **kwds)\n",
      "C:\\Users\\Mac\\anaconda3\\envs\\sat\\lib\\importlib\\_bootstrap.py:219: RuntimeWarning: greenlet.greenlet size changed, may indicate binary incompatibility. Expected 152, got 144\n",
      "  return f(*args, **kwds)\n",
      "C:\\Users\\Mac\\anaconda3\\envs\\sat\\lib\\importlib\\_bootstrap.py:219: RuntimeWarning: greenlet.greenlet size changed, may indicate binary incompatibility. Expected 152, got 144\n",
      "  return f(*args, **kwds)\n",
      "\u001b[34m\u001b[1mwandb\u001b[0m: \u001b[33mWARNING\u001b[0m W&B installed but not logged in.  Run `wandb login` or set the WANDB_API_KEY env variable.\n"
     ]
    }
   ],
   "source": [
    "from bert_utils import Config, BertPreprocessor"
   ]
  },
  {
   "cell_type": "code",
   "execution_count": 5,
   "metadata": {},
   "outputs": [],
   "source": [
    "config = Config(\n",
    "    model_type=\"bert-base-cased\",\n",
    "    max_seq_len=128,\n",
    ")"
   ]
  },
  {
   "cell_type": "code",
   "execution_count": 6,
   "metadata": {
    "scrolled": true
   },
   "outputs": [],
   "source": [
    "processor = BertPreprocessor(config.model_type, config.max_seq_len)"
   ]
  },
  {
   "cell_type": "code",
   "execution_count": 7,
   "metadata": {
    "scrolled": true
   },
   "outputs": [
    {
     "data": {
      "text/plain": [
       "BertForMaskedLM(\n",
       "  (bert): BertModel(\n",
       "    (embeddings): BertEmbeddings(\n",
       "      (word_embeddings): Embedding(28996, 768, padding_idx=0)\n",
       "      (position_embeddings): Embedding(512, 768)\n",
       "      (token_type_embeddings): Embedding(2, 768)\n",
       "      (LayerNorm): BertLayerNorm()\n",
       "      (dropout): Dropout(p=0.1, inplace=False)\n",
       "    )\n",
       "    (encoder): BertEncoder(\n",
       "      (layer): ModuleList(\n",
       "        (0): BertLayer(\n",
       "          (attention): BertAttention(\n",
       "            (self): BertSelfAttention(\n",
       "              (query): Linear(in_features=768, out_features=768, bias=True)\n",
       "              (key): Linear(in_features=768, out_features=768, bias=True)\n",
       "              (value): Linear(in_features=768, out_features=768, bias=True)\n",
       "              (dropout): Dropout(p=0.1, inplace=False)\n",
       "            )\n",
       "            (output): BertSelfOutput(\n",
       "              (dense): Linear(in_features=768, out_features=768, bias=True)\n",
       "              (LayerNorm): BertLayerNorm()\n",
       "              (dropout): Dropout(p=0.1, inplace=False)\n",
       "            )\n",
       "          )\n",
       "          (intermediate): BertIntermediate(\n",
       "            (dense): Linear(in_features=768, out_features=3072, bias=True)\n",
       "          )\n",
       "          (output): BertOutput(\n",
       "            (dense): Linear(in_features=3072, out_features=768, bias=True)\n",
       "            (LayerNorm): BertLayerNorm()\n",
       "            (dropout): Dropout(p=0.1, inplace=False)\n",
       "          )\n",
       "        )\n",
       "        (1): BertLayer(\n",
       "          (attention): BertAttention(\n",
       "            (self): BertSelfAttention(\n",
       "              (query): Linear(in_features=768, out_features=768, bias=True)\n",
       "              (key): Linear(in_features=768, out_features=768, bias=True)\n",
       "              (value): Linear(in_features=768, out_features=768, bias=True)\n",
       "              (dropout): Dropout(p=0.1, inplace=False)\n",
       "            )\n",
       "            (output): BertSelfOutput(\n",
       "              (dense): Linear(in_features=768, out_features=768, bias=True)\n",
       "              (LayerNorm): BertLayerNorm()\n",
       "              (dropout): Dropout(p=0.1, inplace=False)\n",
       "            )\n",
       "          )\n",
       "          (intermediate): BertIntermediate(\n",
       "            (dense): Linear(in_features=768, out_features=3072, bias=True)\n",
       "          )\n",
       "          (output): BertOutput(\n",
       "            (dense): Linear(in_features=3072, out_features=768, bias=True)\n",
       "            (LayerNorm): BertLayerNorm()\n",
       "            (dropout): Dropout(p=0.1, inplace=False)\n",
       "          )\n",
       "        )\n",
       "        (2): BertLayer(\n",
       "          (attention): BertAttention(\n",
       "            (self): BertSelfAttention(\n",
       "              (query): Linear(in_features=768, out_features=768, bias=True)\n",
       "              (key): Linear(in_features=768, out_features=768, bias=True)\n",
       "              (value): Linear(in_features=768, out_features=768, bias=True)\n",
       "              (dropout): Dropout(p=0.1, inplace=False)\n",
       "            )\n",
       "            (output): BertSelfOutput(\n",
       "              (dense): Linear(in_features=768, out_features=768, bias=True)\n",
       "              (LayerNorm): BertLayerNorm()\n",
       "              (dropout): Dropout(p=0.1, inplace=False)\n",
       "            )\n",
       "          )\n",
       "          (intermediate): BertIntermediate(\n",
       "            (dense): Linear(in_features=768, out_features=3072, bias=True)\n",
       "          )\n",
       "          (output): BertOutput(\n",
       "            (dense): Linear(in_features=3072, out_features=768, bias=True)\n",
       "            (LayerNorm): BertLayerNorm()\n",
       "            (dropout): Dropout(p=0.1, inplace=False)\n",
       "          )\n",
       "        )\n",
       "        (3): BertLayer(\n",
       "          (attention): BertAttention(\n",
       "            (self): BertSelfAttention(\n",
       "              (query): Linear(in_features=768, out_features=768, bias=True)\n",
       "              (key): Linear(in_features=768, out_features=768, bias=True)\n",
       "              (value): Linear(in_features=768, out_features=768, bias=True)\n",
       "              (dropout): Dropout(p=0.1, inplace=False)\n",
       "            )\n",
       "            (output): BertSelfOutput(\n",
       "              (dense): Linear(in_features=768, out_features=768, bias=True)\n",
       "              (LayerNorm): BertLayerNorm()\n",
       "              (dropout): Dropout(p=0.1, inplace=False)\n",
       "            )\n",
       "          )\n",
       "          (intermediate): BertIntermediate(\n",
       "            (dense): Linear(in_features=768, out_features=3072, bias=True)\n",
       "          )\n",
       "          (output): BertOutput(\n",
       "            (dense): Linear(in_features=3072, out_features=768, bias=True)\n",
       "            (LayerNorm): BertLayerNorm()\n",
       "            (dropout): Dropout(p=0.1, inplace=False)\n",
       "          )\n",
       "        )\n",
       "        (4): BertLayer(\n",
       "          (attention): BertAttention(\n",
       "            (self): BertSelfAttention(\n",
       "              (query): Linear(in_features=768, out_features=768, bias=True)\n",
       "              (key): Linear(in_features=768, out_features=768, bias=True)\n",
       "              (value): Linear(in_features=768, out_features=768, bias=True)\n",
       "              (dropout): Dropout(p=0.1, inplace=False)\n",
       "            )\n",
       "            (output): BertSelfOutput(\n",
       "              (dense): Linear(in_features=768, out_features=768, bias=True)\n",
       "              (LayerNorm): BertLayerNorm()\n",
       "              (dropout): Dropout(p=0.1, inplace=False)\n",
       "            )\n",
       "          )\n",
       "          (intermediate): BertIntermediate(\n",
       "            (dense): Linear(in_features=768, out_features=3072, bias=True)\n",
       "          )\n",
       "          (output): BertOutput(\n",
       "            (dense): Linear(in_features=3072, out_features=768, bias=True)\n",
       "            (LayerNorm): BertLayerNorm()\n",
       "            (dropout): Dropout(p=0.1, inplace=False)\n",
       "          )\n",
       "        )\n",
       "        (5): BertLayer(\n",
       "          (attention): BertAttention(\n",
       "            (self): BertSelfAttention(\n",
       "              (query): Linear(in_features=768, out_features=768, bias=True)\n",
       "              (key): Linear(in_features=768, out_features=768, bias=True)\n",
       "              (value): Linear(in_features=768, out_features=768, bias=True)\n",
       "              (dropout): Dropout(p=0.1, inplace=False)\n",
       "            )\n",
       "            (output): BertSelfOutput(\n",
       "              (dense): Linear(in_features=768, out_features=768, bias=True)\n",
       "              (LayerNorm): BertLayerNorm()\n",
       "              (dropout): Dropout(p=0.1, inplace=False)\n",
       "            )\n",
       "          )\n",
       "          (intermediate): BertIntermediate(\n",
       "            (dense): Linear(in_features=768, out_features=3072, bias=True)\n",
       "          )\n",
       "          (output): BertOutput(\n",
       "            (dense): Linear(in_features=3072, out_features=768, bias=True)\n",
       "            (LayerNorm): BertLayerNorm()\n",
       "            (dropout): Dropout(p=0.1, inplace=False)\n",
       "          )\n",
       "        )\n",
       "        (6): BertLayer(\n",
       "          (attention): BertAttention(\n",
       "            (self): BertSelfAttention(\n",
       "              (query): Linear(in_features=768, out_features=768, bias=True)\n",
       "              (key): Linear(in_features=768, out_features=768, bias=True)\n",
       "              (value): Linear(in_features=768, out_features=768, bias=True)\n",
       "              (dropout): Dropout(p=0.1, inplace=False)\n",
       "            )\n",
       "            (output): BertSelfOutput(\n",
       "              (dense): Linear(in_features=768, out_features=768, bias=True)\n",
       "              (LayerNorm): BertLayerNorm()\n",
       "              (dropout): Dropout(p=0.1, inplace=False)\n",
       "            )\n",
       "          )\n",
       "          (intermediate): BertIntermediate(\n",
       "            (dense): Linear(in_features=768, out_features=3072, bias=True)\n",
       "          )\n",
       "          (output): BertOutput(\n",
       "            (dense): Linear(in_features=3072, out_features=768, bias=True)\n",
       "            (LayerNorm): BertLayerNorm()\n",
       "            (dropout): Dropout(p=0.1, inplace=False)\n",
       "          )\n",
       "        )\n",
       "        (7): BertLayer(\n",
       "          (attention): BertAttention(\n",
       "            (self): BertSelfAttention(\n",
       "              (query): Linear(in_features=768, out_features=768, bias=True)\n",
       "              (key): Linear(in_features=768, out_features=768, bias=True)\n",
       "              (value): Linear(in_features=768, out_features=768, bias=True)\n",
       "              (dropout): Dropout(p=0.1, inplace=False)\n",
       "            )\n",
       "            (output): BertSelfOutput(\n",
       "              (dense): Linear(in_features=768, out_features=768, bias=True)\n",
       "              (LayerNorm): BertLayerNorm()\n",
       "              (dropout): Dropout(p=0.1, inplace=False)\n",
       "            )\n",
       "          )\n",
       "          (intermediate): BertIntermediate(\n",
       "            (dense): Linear(in_features=768, out_features=3072, bias=True)\n",
       "          )\n",
       "          (output): BertOutput(\n",
       "            (dense): Linear(in_features=3072, out_features=768, bias=True)\n",
       "            (LayerNorm): BertLayerNorm()\n",
       "            (dropout): Dropout(p=0.1, inplace=False)\n",
       "          )\n",
       "        )\n",
       "        (8): BertLayer(\n",
       "          (attention): BertAttention(\n",
       "            (self): BertSelfAttention(\n",
       "              (query): Linear(in_features=768, out_features=768, bias=True)\n",
       "              (key): Linear(in_features=768, out_features=768, bias=True)\n",
       "              (value): Linear(in_features=768, out_features=768, bias=True)\n",
       "              (dropout): Dropout(p=0.1, inplace=False)\n",
       "            )\n",
       "            (output): BertSelfOutput(\n",
       "              (dense): Linear(in_features=768, out_features=768, bias=True)\n",
       "              (LayerNorm): BertLayerNorm()\n",
       "              (dropout): Dropout(p=0.1, inplace=False)\n",
       "            )\n",
       "          )\n",
       "          (intermediate): BertIntermediate(\n",
       "            (dense): Linear(in_features=768, out_features=3072, bias=True)\n",
       "          )\n",
       "          (output): BertOutput(\n",
       "            (dense): Linear(in_features=3072, out_features=768, bias=True)\n",
       "            (LayerNorm): BertLayerNorm()\n",
       "            (dropout): Dropout(p=0.1, inplace=False)\n",
       "          )\n",
       "        )\n",
       "        (9): BertLayer(\n",
       "          (attention): BertAttention(\n",
       "            (self): BertSelfAttention(\n",
       "              (query): Linear(in_features=768, out_features=768, bias=True)\n",
       "              (key): Linear(in_features=768, out_features=768, bias=True)\n",
       "              (value): Linear(in_features=768, out_features=768, bias=True)\n",
       "              (dropout): Dropout(p=0.1, inplace=False)\n",
       "            )\n",
       "            (output): BertSelfOutput(\n",
       "              (dense): Linear(in_features=768, out_features=768, bias=True)\n",
       "              (LayerNorm): BertLayerNorm()\n",
       "              (dropout): Dropout(p=0.1, inplace=False)\n",
       "            )\n",
       "          )\n",
       "          (intermediate): BertIntermediate(\n",
       "            (dense): Linear(in_features=768, out_features=3072, bias=True)\n",
       "          )\n",
       "          (output): BertOutput(\n",
       "            (dense): Linear(in_features=3072, out_features=768, bias=True)\n",
       "            (LayerNorm): BertLayerNorm()\n",
       "            (dropout): Dropout(p=0.1, inplace=False)\n",
       "          )\n",
       "        )\n",
       "        (10): BertLayer(\n",
       "          (attention): BertAttention(\n",
       "            (self): BertSelfAttention(\n",
       "              (query): Linear(in_features=768, out_features=768, bias=True)\n",
       "              (key): Linear(in_features=768, out_features=768, bias=True)\n",
       "              (value): Linear(in_features=768, out_features=768, bias=True)\n",
       "              (dropout): Dropout(p=0.1, inplace=False)\n",
       "            )\n",
       "            (output): BertSelfOutput(\n",
       "              (dense): Linear(in_features=768, out_features=768, bias=True)\n",
       "              (LayerNorm): BertLayerNorm()\n",
       "              (dropout): Dropout(p=0.1, inplace=False)\n",
       "            )\n",
       "          )\n",
       "          (intermediate): BertIntermediate(\n",
       "            (dense): Linear(in_features=768, out_features=3072, bias=True)\n",
       "          )\n",
       "          (output): BertOutput(\n",
       "            (dense): Linear(in_features=3072, out_features=768, bias=True)\n",
       "            (LayerNorm): BertLayerNorm()\n",
       "            (dropout): Dropout(p=0.1, inplace=False)\n",
       "          )\n",
       "        )\n",
       "        (11): BertLayer(\n",
       "          (attention): BertAttention(\n",
       "            (self): BertSelfAttention(\n",
       "              (query): Linear(in_features=768, out_features=768, bias=True)\n",
       "              (key): Linear(in_features=768, out_features=768, bias=True)\n",
       "              (value): Linear(in_features=768, out_features=768, bias=True)\n",
       "              (dropout): Dropout(p=0.1, inplace=False)\n",
       "            )\n",
       "            (output): BertSelfOutput(\n",
       "              (dense): Linear(in_features=768, out_features=768, bias=True)\n",
       "              (LayerNorm): BertLayerNorm()\n",
       "              (dropout): Dropout(p=0.1, inplace=False)\n",
       "            )\n",
       "          )\n",
       "          (intermediate): BertIntermediate(\n",
       "            (dense): Linear(in_features=768, out_features=3072, bias=True)\n",
       "          )\n",
       "          (output): BertOutput(\n",
       "            (dense): Linear(in_features=3072, out_features=768, bias=True)\n",
       "            (LayerNorm): BertLayerNorm()\n",
       "            (dropout): Dropout(p=0.1, inplace=False)\n",
       "          )\n",
       "        )\n",
       "      )\n",
       "    )\n",
       "    (pooler): BertPooler(\n",
       "      (dense): Linear(in_features=768, out_features=768, bias=True)\n",
       "      (activation): Tanh()\n",
       "    )\n",
       "  )\n",
       "  (cls): BertOnlyMLMHead(\n",
       "    (predictions): BertLMPredictionHead(\n",
       "      (transform): BertPredictionHeadTransform(\n",
       "        (dense): Linear(in_features=768, out_features=768, bias=True)\n",
       "        (LayerNorm): BertLayerNorm()\n",
       "      )\n",
       "      (decoder): Linear(in_features=768, out_features=28996, bias=False)\n",
       "    )\n",
       "  )\n",
       ")"
      ]
     },
     "execution_count": 7,
     "metadata": {},
     "output_type": "execute_result"
    }
   ],
   "source": [
    "from pytorch_pretrained_bert import BertConfig, BertForMaskedLM\n",
    "model = BertForMaskedLM.from_pretrained(config.model_type)\n",
    "model.eval() # Important! Disable dropout"
   ]
  },
  {
   "cell_type": "code",
   "execution_count": 9,
   "metadata": {
    "scrolled": false
   },
   "outputs": [
    {
     "data": {
      "text/plain": [
       "Tokenizer(vocabulary_size=28996, model=BertWordPiece, unk_token=[UNK], sep_token=[SEP], cls_token=[CLS], pad_token=[PAD], mask_token=[MASK], clean_text=True, handle_chinese_chars=True, strip_accents=None, lowercase=True, wordpieces_prefix=##)"
      ]
     },
     "execution_count": 9,
     "metadata": {},
     "output_type": "execute_result"
    }
   ],
   "source": [
    "from tokenizers import BertWordPieceTokenizer\n",
    "tokenizer = BertWordPieceTokenizer(\"./bert-base-cased-vocab.txt\")\n",
    "tokenizer"
   ]
  },
  {
   "cell_type": "code",
   "execution_count": 10,
   "metadata": {
    "scrolled": true
   },
   "outputs": [
    {
     "name": "stderr",
     "output_type": "stream",
     "text": [
      "The pre-trained model you are loading is a cased model but you have not set `do_lower_case` to False. We are setting `do_lower_case=False` for you but you may want to check this behavior.\n"
     ]
    }
   ],
   "source": [
    "from pytorch_pretrained_bert import BertTokenizer\n",
    "\n",
    "tokenizer = BertTokenizer.from_pretrained(config.model_type)"
   ]
  },
  {
   "cell_type": "code",
   "execution_count": 22,
   "metadata": {},
   "outputs": [
    {
     "data": {
      "text/plain": [
       "28996"
      ]
     },
     "execution_count": 22,
     "metadata": {},
     "output_type": "execute_result"
    }
   ],
   "source": [
    "len(tokenizer.vocab)"
   ]
  },
  {
   "cell_type": "code",
   "execution_count": 15,
   "metadata": {
    "scrolled": false
   },
   "outputs": [
    {
     "name": "stdout",
     "output_type": "stream",
     "text": [
      "320\n",
      "320\n",
      "320\n"
     ]
    }
   ],
   "source": [
    "import json\n",
    "l = []\n",
    "with open('./professions.json','r',encoding='utf8')as fp:\n",
    "    json_data = json.load(fp)\n",
    "    \n",
    "    for d in range(len(json_data)):\n",
    "        l.append(json_data[d][0])\n",
    "#print(l)\n",
    "    #print(json_data[0][0])\n",
    "professions_variants_pl = []\n",
    "professions_variants_cap = []\n",
    "professions_variants_upper = []\n",
    "def plural(word):\n",
    "    if word.endswith('y'):\n",
    "        return word[:-1] + 'ies'\n",
    "    elif word[-1] in 'sx' or word[-2:] in ['sh', 'ch']:\n",
    "        return word + 'es'\n",
    "    elif word.endswith('an'):\n",
    "        return word[:-2] + 'en'\n",
    "    else:\n",
    "        return word + 's'\n",
    "    \n",
    "for word in l:\n",
    "    professions_variants_pl.append(plural(word))\n",
    "    professions_variants_cap.append(word.capitalize())\n",
    "    professions_variants_upper.append(word.upper())\n",
    "print(len(professions_variants_pl))\n",
    "print(len(professions_variants_cap))\n",
    "print(len(professions_variants_upper))\n",
    "    "
   ]
  },
  {
   "cell_type": "code",
   "execution_count": 16,
   "metadata": {
    "scrolled": true
   },
   "outputs": [],
   "source": [
    "import re\n",
    "def safe_word(w):\n",
    "    # ignore words with numbers, etc.\n",
    "    # [a-zA-Z\\.'_\\- :;\\(\\)\\]] for emoticons\n",
    "    return (re.match(r\"^[a-zA-Z_]*$\", w) and len(w) < 20 and not re.match(r\"^_*$\", w))\n",
    "\n",
    "def netural_word(w):\n",
    "    # ignore words with numbers, etc.\n",
    "    # [a-zA-Z\\.'_\\- :;\\(\\)\\]] for emoticons\n",
    "    return (re.match(r\"^[a-z_]*$\", w) and len(w) < 20 and not re.match(r\"^_*$\", w))\n",
    "\n",
    "def limit_vocab(model, exclude = None):\n",
    "    vocab_limited = []\n",
    "    vocab_neutral = []\n",
    "    for w in list(tokenizer.vocab.keys()): \n",
    "        if safe_word(w) == True:\n",
    "             vocab_limited.append(w)\n",
    "        if netural_word(w) == True:\n",
    "            vocab_neutral.append(w)\n",
    "    return vocab_limited\n",
    "\n",
    "lim = limit_vocab(list(tokenizer.vocab.keys()))"
   ]
  },
  {
   "cell_type": "code",
   "execution_count": 17,
   "metadata": {},
   "outputs": [
    {
     "data": {
      "text/plain": [
       "20641"
      ]
     },
     "execution_count": 17,
     "metadata": {},
     "output_type": "execute_result"
    }
   ],
   "source": [
    "len(lim)"
   ]
  },
  {
   "cell_type": "markdown",
   "metadata": {},
   "source": [
    "#### measure_1_LPBS"
   ]
  },
  {
   "cell_type": "code",
   "execution_count": 11,
   "metadata": {},
   "outputs": [],
   "source": [
    "def get_logits(sentence: str) -> np.ndarray:\n",
    "    return model(processor.to_bert_model_input(sentence))[0, :, :].cpu().detach().numpy()"
   ]
  },
  {
   "cell_type": "code",
   "execution_count": 12,
   "metadata": {},
   "outputs": [],
   "source": [
    "def softmax(arr, axis=1):\n",
    "    e = np.exp(arr)\n",
    "    return e / e.sum(axis=axis, keepdims=True)"
   ]
  },
  {
   "cell_type": "code",
   "execution_count": 13,
   "metadata": {},
   "outputs": [],
   "source": [
    "from collections import defaultdict\n",
    "\n",
    "def get_mask_fill_logits(sentence: str, words: Iterable[str],\n",
    "                         use_last_mask=False, apply_softmax=False) -> Dict[str, float]:\n",
    "    mask_i = processor.get_index(sentence, \"[MASK]\", last=use_last_mask)\n",
    "    logits = defaultdict(list)\n",
    "    out_logits = get_logits(sentence)\n",
    "    if apply_softmax: \n",
    "        out_logits = softmax(out_logits)\n",
    "    return {w: out_logits[mask_i, processor.token_to_index(w)] for w in words}"
   ]
  },
  {
   "cell_type": "code",
   "execution_count": 14,
   "metadata": {
    "scrolled": true
   },
   "outputs": [],
   "source": [
    "import pandas as pd\n",
    "def bias_score(sentence: str, gender_words: Iterable[str], \n",
    "               word: str, gender_comes_first=True) -> Dict[str, float]:\n",
    "    \"\"\"\n",
    "    Input a sentence of the form \"GGG is XXX\"\n",
    "    XXX is a placeholder for the target word\n",
    "    GGG is a placeholder for the gendered words (the subject)\n",
    "    We will predict the bias when filling in the gendered words and \n",
    "    filling in the target word.\n",
    "    \n",
    "    gender_comes_first: whether GGG comes before XXX (TODO: better way of handling this?)\n",
    "    \"\"\"\n",
    "    # probability of filling [MASK] with \"he\" vs. \"she\" when target is \"programmer\"\n",
    "    ###fw,mw（实际顺序）\n",
    "    mw, fw = gender_words\n",
    "    subject_fill_logits = get_mask_fill_logits(\n",
    "        sentence.replace(\"XXX\", word).replace(\"GGG\", \"[MASK]\"), \n",
    "        gender_words, use_last_mask=not gender_comes_first,\n",
    "    )\n",
    "    subject_fill_bias = subject_fill_logits[mw] - subject_fill_logits[fw]\n",
    "    # male words are simply more likely than female words\n",
    "    # correct for this by masking the target word and measuring the prior probabilities\n",
    "    subject_fill_prior_logits = get_mask_fill_logits(\n",
    "        sentence.replace(\"XXX\", \"[MASK]\").replace(\"GGG\", \"[MASK]\"), \n",
    "        gender_words, use_last_mask=gender_comes_first,\n",
    "    )\n",
    "    subject_fill_bias_prior_correction = subject_fill_prior_logits[mw] - \\\n",
    "                                            subject_fill_prior_logits[fw]\n",
    "    \n",
    "    # probability of filling \"programmer\" into [MASK] when subject is male/female\n",
    "    '''try:\n",
    "        mw_fill_prob = get_mask_fill_logits(\n",
    "            sentence.replace(\"GGG\", mw).replace(\"XXX\", \"[MASK]\"), [word],\n",
    "            apply_softmax=True,\n",
    "        )[word]\n",
    "        fw_fill_prob = get_mask_fill_logits(\n",
    "            sentence.replace(\"GGG\", fw).replace(\"XXX\", \"[MASK]\"), [word],\n",
    "            apply_softmax=True,\n",
    "        )[word]\n",
    "        # We don't need to correct for the prior probability here since the probability\n",
    "        # should already be conditioned on the presence of the word in question\n",
    "        ## 用对数优势比来衡量概率的差异\n",
    "        tgt_fill_bias = np.log(mw_fill_prob / fw_fill_prob)\n",
    "    except Exception as e:\n",
    "        #print(e)\n",
    "        tgt_fill_bias = np.nan # TODO: handle multi word case'''\n",
    "    return subject_fill_bias,subject_fill_bias_prior_correction,subject_fill_bias - subject_fill_bias_prior_correction#,tgt_fill_bias\n",
    "       "
   ]
  },
  {
   "cell_type": "code",
   "execution_count": 38,
   "metadata": {},
   "outputs": [
    {
     "name": "stdout",
     "output_type": "stream",
     "text": [
      "overall mean and std: -0.54284024 1.3037229\n"
     ]
    }
   ],
   "source": [
    "# To get mean and std\n",
    "subject_fill_bias = []\n",
    "subject_fill_bias_prior_correction = []\n",
    "an = []\n",
    "tgt_fill_bias = []      \n",
    "import pandas as pd\n",
    "# make list defining gender pairs\n",
    "# for measures & this list, + = female, - = male\n",
    "def_pairs = [('she','he'), ('her', 'his'), ('woman', 'man'), \n",
    "              ('herself', 'himself'),('daughter', 'son'), ('mother', 'father'), ('gal','guy'), \n",
    "              ('girl', 'boy'), ('female', 'male')]\n",
    "#print(def_pairs[0])\n",
    "for w in def_pairs:  \n",
    "    for i in lim[52:]:\n",
    "        a,b,c= bias_score(\"GGG is a XXX.\", [w[0], w[1]], i)\n",
    "        #subject_fill_bias.append(a)\n",
    "        #subject_fill_bias_prior_correction.append(b)\n",
    "        an.append(c)\n",
    "        #tgt_fill_bias.append(d)    \n",
    "oa_mean = np.mean(an)\n",
    "oa_std = np.std(an)\n",
    "print(\"overall mean and std:\", oa_mean, oa_std)  "
   ]
  },
  {
   "cell_type": "code",
   "execution_count": 20,
   "metadata": {
    "scrolled": false
   },
   "outputs": [
    {
     "name": "stdout",
     "output_type": "stream",
     "text": [
      "professor\n",
      "[-0.8061633, 0.839221, -2.0462284, -0.07825041, -0.90341747, -1.7006025, 1.5541481, -0.99759185, -1.0842367]\n",
      "professors\n",
      "[-0.91115713, 0.45574856, -2.261635, -0.2091906, -1.4805918, -1.7691853, -0.37458634, -1.5313267, -1.1482763]\n",
      "Professor\n",
      "[-0.7639613, 0.86977863, -2.0090013, -0.104157686, -0.87853754, -1.6557273, 1.6216544, -1.0998623, -0.8791299]\n",
      "PROFESSOR\n",
      "[-0.84019613, 0.03293872, -3.0419378, -0.33813715, -1.1136804, -0.649625, 1.3506792, -1.5665492, -0.8767464]\n"
     ]
    },
    {
     "data": {
      "image/png": "[encoded data removed]",
      "text/plain": [
       "<Figure size 432x288 with 1 Axes>"
      ]
     },
     "metadata": {
      "needs_background": "light"
     },
     "output_type": "display_data"
    }
   ],
   "source": [
    "# fn to get variant forms of profession (eg for doctor, returns doctor, doctors, Doctor, DOCTOR)   \n",
    "def_pairs = [('she','he'), ('her', 'his'), ('woman', 'man'), \n",
    "              ('herself', 'himself'),('daughter', 'son'), ('mother', 'father'), ('gal','guy'), \n",
    "              ('girl', 'boy'), ('female', 'male')]\n",
    "oa_mean = -0.54284024\n",
    "oa_std = 1.3037229\n",
    "def plural(word):\n",
    "    if word.endswith('y'):\n",
    "        return word[:-1] + 'ies'\n",
    "    elif word[-1] in 'sx' or word[-2:] in ['sh', 'ch']:\n",
    "        return word + 'es'\n",
    "    elif word.endswith('an'):\n",
    "        return word[:-2] + 'en'\n",
    "    else:\n",
    "        return word + 's'\n",
    "def prof_words(prof):\n",
    "    prof_words = [prof]\n",
    "    prof_words.append(plural(prof))\n",
    "    prof_words.append(prof.capitalize())\n",
    "    prof_words.append(prof.upper())\n",
    "    return prof_words\n",
    "\n",
    "length = len(def_pairs)\n",
    "x = np.arange(length)\n",
    "fig = plt.figure()\n",
    "ax = plt.subplot(111)\n",
    "graph_types = [\"-o\", \"-^\", \"-*\", \"-D\"]\n",
    "#scores = [\"-3.0180273\",\"-3.0180273\",\"0.171636\",\"-3.0180273\",\"-3.0180273\",\"-3.0180273\",\"-3.0180273\",\"-3.0180273\",\"-3.0180273\",\"-3.0180273\"]\n",
    "#plt.plot(x, scores, graph_types[0], label = word)\n",
    "gword_list = prof_words(\"professor\")\n",
    "for i,word in enumerate(gword_list):\n",
    "    print(word)\n",
    "    graph_type = graph_types[i]      \n",
    "    #plt.title(\"DB/WA\")\n",
    "    scores = ([bias_score(\"GGG is a XXX.\", [pair[0], pair[1]], word)[2] for pair in def_pairs])\n",
    "    print(scores)\n",
    "    plt.plot(x, scores, graph_types[i], label = word)\n",
    "            \n",
    "plt.plot(x, [oa_mean for i in range(length)], \"g--\", label = \"mean\")\n",
    "plt.plot(x, [oa_mean-oa_std for i in range(length)], \"-.\",color = \"orange\", label = \"1 standard deviation\")\n",
    "plt.plot(x, [oa_mean+oa_std for i in range(length)],  \"-.\",color = \"orange\", label =  \"\")\n",
    "plt.plot(x, [oa_mean-2*oa_std for i in range(length)],  \"r:\", label = \"2 standard deviations\")\n",
    "plt.plot(x, [oa_mean+2*oa_std for i in range(length)],  \"r:\", label = \"\")\n",
    "plt.xticks(x, def_pairs, rotation='vertical')\n",
    "\n",
    "#if leg == True:\n",
    "plt.legend()\n",
    "ax.legend(bbox_to_anchor=(1.05, 1.0))\n",
    "plt.show()    "
   ]
  },
  {
   "cell_type": "code",
   "execution_count": 25,
   "metadata": {
    "scrolled": false
   },
   "outputs": [
    {
     "name": "stdout",
     "output_type": "stream",
     "text": [
      "nurse\n",
      "[2.5391269, 3.8959286, 0.54591227, 2.2980382, 2.010731, 1.3242395, 3.5939198, 1.8953564, 1.3070959]\n",
      "nurses\n",
      "[1.2493315, 2.3699148, -0.47898763, 1.5079561, 0.4910698, 0.06289029, 1.8275244, 0.30963588, 0.25542974]\n",
      "Nurse\n",
      "[1.0257063, 2.5027378, -1.0707276, 1.3611052, 0.4969778, -8.106232e-05, 2.0324752, 0.3526683, 0.22165132]\n",
      "NURSE\n",
      "[-0.58010197, 0.20757723, -3.216601, -0.39487672, -1.0980699, -0.37130916, -0.4583583, -1.4594082, -0.74881685]\n"
     ]
    },
    {
     "data": {
      "image/png": "[encoded data removed]",
      "text/plain": [
       "<Figure size 432x288 with 1 Axes>"
      ]
     },
     "metadata": {
      "needs_background": "light"
     },
     "output_type": "display_data"
    }
   ],
   "source": [
    "# fn to get variant forms of profession (eg for doctor, returns doctor, doctors, Doctor, DOCTOR)   \n",
    "def_pairs = [('she','he'), ('her', 'his'), ('woman', 'man'), \n",
    "              ('herself', 'himself'),('daughter', 'son'), ('mother', 'father'), ('gal','guy'), \n",
    "              ('girl', 'boy'), ('female', 'male')]\n",
    "oa_mean = -0.54284024\n",
    "oa_std = 1.3037229\n",
    "def plural(word):\n",
    "    if word.endswith('y'):\n",
    "        return word[:-1] + 'ies'\n",
    "    elif word[-1] in 'sx' or word[-2:] in ['sh', 'ch']:\n",
    "        return word + 'es'\n",
    "    elif word.endswith('an'):\n",
    "        return word[:-2] + 'en'\n",
    "    else:\n",
    "        return word + 's'\n",
    "def prof_words(prof):\n",
    "    prof_words = [prof]\n",
    "    prof_words.append(plural(prof))\n",
    "    prof_words.append(prof.capitalize())\n",
    "    prof_words.append(prof.upper())\n",
    "    return prof_words\n",
    "\n",
    "length = len(def_pairs)\n",
    "x = np.arange(length)\n",
    "fig = plt.figure()\n",
    "ax = plt.subplot(111)\n",
    "graph_types = [\"-o\", \"-^\", \"-*\", \"-D\"]\n",
    "#scores = [\"-3.0180273\",\"-3.0180273\",\"0.171636\",\"-3.0180273\",\"-3.0180273\",\"-3.0180273\",\"-3.0180273\",\"-3.0180273\",\"-3.0180273\",\"-3.0180273\"]\n",
    "#plt.plot(x, scores, graph_types[0], label = word)\n",
    "gword_list = prof_words(\"nurse\")\n",
    "for i,word in enumerate(gword_list):\n",
    "    print(word)\n",
    "    graph_type = graph_types[i]      \n",
    "    #plt.title(\"DB/WA\")\n",
    "    scores = ([bias_score(\"GGG is a XXX.\", [pair[0], pair[1]], word)[2] for pair in def_pairs])\n",
    "    print(scores)\n",
    "    plt.plot(x, scores, graph_types[i], label = word)\n",
    "            \n",
    "plt.plot(x, [oa_mean for i in range(length)], \"g--\", label = \"mean\")\n",
    "plt.plot(x, [oa_mean-oa_std for i in range(length)], \"-.\",color = \"orange\", label = \"1 standard deviation\")\n",
    "plt.plot(x, [oa_mean+oa_std for i in range(length)],  \"-.\",color = \"orange\", label =  \"\")\n",
    "plt.plot(x, [oa_mean-2*oa_std for i in range(length)],  \"r:\", label = \"2 standard deviations\")\n",
    "plt.plot(x, [oa_mean+2*oa_std for i in range(length)],  \"r:\", label = \"\")\n",
    "plt.xticks(x, def_pairs, rotation='vertical')\n",
    "\n",
    "#if leg == True:\n",
    "plt.legend()\n",
    "ax.legend(bbox_to_anchor=(1.05, 1.0))\n",
    "plt.show()    "
   ]
  },
  {
   "cell_type": "code",
   "execution_count": 83,
   "metadata": {
    "scrolled": false
   },
   "outputs": [
    {
     "name": "stdout",
     "output_type": "stream",
     "text": [
      "mag changes on professions: 0.6\n"
     ]
    }
   ],
   "source": [
    "# COMPUTE MAGNITUDE CHANGES\n",
    "\n",
    "def mag_changes(df_prof, std):\n",
    "    profs_dict = df_prof.to_dict('index')\n",
    "    mcs = {}\n",
    "    for prof in profs_dict.keys():\n",
    "        c = 0\n",
    "        for i,pair1 in enumerate(def_pairs):\n",
    "            p1_score = profs_dict[prof][pair1]\n",
    "            for pair2 in def_pairs[i+1:]:\n",
    "                p2_score = profs_dict[prof][pair2]\n",
    "                if abs(p1_score - p2_score) >= std:\n",
    "                    c += 1\n",
    "        mcs[prof] = c#int(c/2)\n",
    "    mean = np.mean([v for v in mcs.values()])\n",
    "    return (round(1 - mean/45,2))\n",
    "\n",
    "print(\"mag changes on professions:\", mag_changes(df_bdb_profvb, oa_std))\n"
   ]
  },
  {
   "cell_type": "code",
   "execution_count": 37,
   "metadata": {},
   "outputs": [
    {
     "name": "stdout",
     "output_type": "stream",
     "text": [
      "Kappa: 0.06\n"
     ]
    }
   ],
   "source": [
    "# kappa\n",
    "def fleiss_kappa(M): \n",
    "    \n",
    "    n_annotators = np.sum(M[0, :]) \n",
    "    n_items_rated = M.shape[0]\n",
    "    n_rating_categories = M.shape[1]\n",
    "    total_n_ratings = n_items_rated*n_annotators\n",
    "    \n",
    "    #  row vec of proportions p_i of all ratings given to each rating category\n",
    "    p = M.sum(axis = 0)/total_n_ratings\n",
    "    \n",
    "    # column vec of rating agreements P_j for each item\n",
    "    P = (np.sum(np.multiply(M,M), axis = 1)- n_annotators)/(n_annotators*(n_annotators-1))\n",
    "       \n",
    "    P_o = np.mean(P) # observed agreement\n",
    "    P_e = np.sum(np.multiply(p,p)) # expected agreement\n",
    "    kappa = (P_o - P_e) / (1 - P_e) # agreement\n",
    "    \n",
    "    return round(kappa,2)\n",
    "\n",
    "\n",
    "# turn bias scores to directions (male or female)\n",
    "def make_binary(df):\n",
    "    binary_df = df.copy()\n",
    "    binary_df[binary_df<0] = 0\n",
    "    binary_df[binary_df>0] = 1\n",
    "    return binary_df\n",
    "\n",
    "\n",
    "# compute fleiss kappa of df\n",
    "def compute_fleiss_kappa(df):\n",
    "    col_dict = {c:df.iloc[:,c].tolist() for c in range(df.shape[1])}\n",
    "\n",
    "    k0 = np.zeros(df.shape[0])\n",
    "    k1 = np.zeros(df.shape[0])\n",
    "\n",
    "    for i in range(df.shape[0]):\n",
    "        for c in range(df.shape[1]):\n",
    "\n",
    "            if col_dict[c][i] == 0:\n",
    "                k0[i] += 1\n",
    "            else:\n",
    "                k1[i] +=1\n",
    "\n",
    "    M = np.matrix([k0,k1]).T\n",
    "    return fleiss_kappa(M)\n",
    "\n",
    "print(\"Kappa:\",compute_fleiss_kappa(make_binary(df_bdb_profvb)))"
   ]
  },
  {
   "cell_type": "code",
   "execution_count": 20,
   "metadata": {},
   "outputs": [
    {
     "name": "stdout",
     "output_type": "stream",
     "text": [
      "GD/WA\n",
      "& 0.69  & 0.83  & 0.81  & 0.04  & 0.07  & 0.49  & 0.00  & 0.42 \n"
     ]
    }
   ],
   "source": [
    "# DIFFERENT FORMS BASE PAIRS\n",
    "# compare profession scores with using capitalized versions of base pairs eg (she, he) vs (She, He)\n",
    "def_pairs = [('she','he'), ('her', 'his'), ('woman', 'man'), \n",
    "              ('daughter', 'son'), ('mother', 'father'), \n",
    "              ('girl', 'boy'), ('female', 'male')]\n",
    "cap_def_pairs = [(fp.capitalize(), mp.capitalize()) for fp,mp in def_pairs]\n",
    "# DIFFERENT FORMS BASE PAIRS\n",
    "# compare profession scores with using capitalized versions of base pairs eg (she, he) vs (She, He)\n",
    "from sklearn.metrics import cohen_kappa_score\n",
    "\n",
    "#cap_def_pairs = [(fp.capitalize(), mp.capitalize()) for fp,mp in def_pairs]\n",
    "# turn bias scores to directions (male or female)\n",
    "def make_binary(df):\n",
    "    binary_df = df.copy()\n",
    "    binary_df[binary_df<0] = 0\n",
    "    binary_df[binary_df>0] = 1\n",
    "    return binary_df\n",
    "\n",
    "# kappa for only two classes\n",
    "def cohen_kappa(orign_df, vary_df):\n",
    "    scores = []\n",
    "    for i in range(len(orign_df.columns)):\n",
    "        pair_cohen=cohen_kappa_score(orign_df[orign_df.columns[i]], vary_df[vary_df.columns[i]])\n",
    "        scores.append(pair_cohen)\n",
    "        print('& %.2f '%(pair_cohen), end=' ')\n",
    "    print('& %.2f '%(np.mean(scores)))\n",
    "\n",
    "def make_bdb_scores_dict(word_pairs, word_list):\n",
    "    bdb_scores = {}\n",
    "\n",
    "    for pair in word_pairs:\n",
    "        bdb_scores[pair] = []\n",
    "\n",
    "        for word in word_list:\n",
    "            score = bias_score(\"GGG is a XXX.\", [pair[0], pair[1]], word)[2]\n",
    "            bdb_scores[pair].append(score)\n",
    "            \n",
    "    return bdb_scores\n",
    "\n",
    "# make score dataframes\n",
    "bdb_profs_scores = make_bdb_scores_dict(def_pairs, l)\n",
    "bdb_profs_scores_cap = make_bdb_scores_dict(cap_def_pairs, l)\n",
    "\n",
    "df_bdb_prof = pd.DataFrame.from_dict(bdb_profs_scores, orient='index', columns = l).T\n",
    "df_bdb_prof_cap = pd.DataFrame.from_dict(bdb_profs_scores_cap, orient='index', columns = l).T\n",
    "\n",
    "print(\"LPBS\")\n",
    "cohen_kappa(make_binary(df_bdb_prof),make_binary(df_bdb_prof_cap))"
   ]
  },
  {
   "cell_type": "code",
   "execution_count": 21,
   "metadata": {},
   "outputs": [
    {
     "name": "stdout",
     "output_type": "stream",
     "text": [
      "Base vs Plural\n",
      "LPBS\n",
      "& 0.76  & 0.56  & 0.30  & 0.65  & 0.74  & 0.70  & 0.25  & 0.79  & 0.81  & 0.62 \n"
     ]
    }
   ],
   "source": [
    "# Base vs Plural (professor,professors)\n",
    "from sklearn.metrics import cohen_kappa_score\n",
    "def_pairs = [('she','he'), ('her', 'his'), ('woman', 'man'), \n",
    "              ('herself', 'himself'),('daughter', 'son'), ('mother', 'father'), ('gal','guy'), \n",
    "              ('girl', 'boy'), ('female', 'male')]\n",
    "def make_binary(df):\n",
    "    binary_df = df.copy()\n",
    "    binary_df[binary_df<0] = 0\n",
    "    binary_df[binary_df>0] = 1\n",
    "    return binary_df\n",
    "# kappa for only two classes\n",
    "def cohen_kappa(orign_df, vary_df):\n",
    "    scores = []\n",
    "    for i in range(len(orign_df.columns)):\n",
    "        pair_cohen=cohen_kappa_score(orign_df[orign_df.columns[i]], vary_df[vary_df.columns[i]])\n",
    "        scores.append(pair_cohen)\n",
    "        print('& %.2f '%(pair_cohen), end=' ')\n",
    "    print('& %.2f '%(np.mean(scores)))\n",
    "\n",
    "# base form words\n",
    "bdb_profsvb_scores = make_bdb_scores_dict(def_pairs, l)\n",
    "df_bdb_profvb = pd.DataFrame.from_dict(bdb_profsvb_scores, orient='index', columns = l).T\n",
    "\n",
    "\n",
    "# plural form words\n",
    "bdb_profspl_scores = make_bdb_scores_dict(def_pairs, professions_variants_pl)\n",
    "df_bdb_profpl = pd.DataFrame.from_dict(bdb_profspl_scores, orient='index', columns = l).T\n",
    "\n",
    "print(\"Base vs Plural\")\n",
    "print(\"LPBS\")\n",
    "cohen_kappa(make_binary(df_bdb_profvb),make_binary(df_bdb_profpl))"
   ]
  },
  {
   "cell_type": "code",
   "execution_count": 22,
   "metadata": {},
   "outputs": [
    {
     "name": "stdout",
     "output_type": "stream",
     "text": [
      "Base vs Capital\n",
      "LPBS\n",
      "& 0.60  & 0.56  & 0.52  & 0.61  & 0.74  & 0.81  & 0.51  & 0.76  & 0.81  & 0.66 \n"
     ]
    }
   ],
   "source": [
    "# Base vs Capital (professor,Professor)\n",
    "bdb_profscap_scores = make_bdb_scores_dict(def_pairs, professions_variants_cap)\n",
    "df_bdb_profcap = pd.DataFrame.from_dict(bdb_profscap_scores, orient='index', columns = l).T\n",
    "\n",
    "print(\"Base vs Capital\")\n",
    "print(\"LPBS\")\n",
    "cohen_kappa(make_binary(df_bdb_profvb),make_binary(df_bdb_profcap))"
   ]
  },
  {
   "cell_type": "code",
   "execution_count": 23,
   "metadata": {},
   "outputs": [
    {
     "name": "stdout",
     "output_type": "stream",
     "text": [
      "Base vs Upper\n",
      "LPBS\n",
      "& 0.06  & -0.08  & 0.00  & -0.01  & 0.00  & -0.01  & 0.00  & 0.00  & 0.00  & -0.00 \n"
     ]
    }
   ],
   "source": [
    "# Base vs Upper (professor,PROFESSOR)\n",
    "bdb_profsupp_scores = make_bdb_scores_dict(def_pairs, professions_variants_upper)\n",
    "df_bdb_profupp = pd.DataFrame.from_dict(bdb_profsupp_scores, orient='index', columns = l).T\n",
    "\n",
    "print(\"Base vs Upper\")\n",
    "print(\"LPBS\")\n",
    "cohen_kappa(make_binary(df_bdb_profvb),make_binary(df_bdb_profupp))"
   ]
  },
  {
   "cell_type": "code",
   "execution_count": null,
   "metadata": {},
   "outputs": [],
   "source": []
  },
  {
   "cell_type": "code",
   "execution_count": null,
   "metadata": {},
   "outputs": [],
   "source": []
  },
  {
   "cell_type": "markdown",
   "metadata": {},
   "source": [
    "#### measure_2_WEAT"
   ]
  },
  {
   "cell_type": "code",
   "execution_count": 26,
   "metadata": {},
   "outputs": [],
   "source": [
    "def get_word_vector(sentence: str, word: str):\n",
    "    idx = processor.get_index(sentence, word, accept_wordpiece=True)\n",
    "    outputs = None\n",
    "    with torch.no_grad():\n",
    "        sequence_output, _ = model.bert(processor.to_bert_model_input(sentence),\n",
    "                                        output_all_encoded_layers=False)\n",
    "        sequence_output.squeeze_(0)\n",
    "    return sequence_output.detach().cpu().numpy()[idx]"
   ]
  },
  {
   "cell_type": "code",
   "execution_count": 27,
   "metadata": {},
   "outputs": [],
   "source": [
    "def cosine_similarity(x, y):\n",
    "    return np.dot(x, y) / (np.linalg.norm(x) * np.linalg.norm(y))"
   ]
  },
  {
   "cell_type": "code",
   "execution_count": 28,
   "metadata": {},
   "outputs": [],
   "source": [
    "def to_words(wlist, filter_oov=True):\n",
    "    return [w.strip() for w in wlist.split(\", \")]#.lower().replace(\"\\n\", \" \").split(\", \") if w.strip() in rev_vocab or not filter_oov]"
   ]
  },
  {
   "cell_type": "code",
   "execution_count": 30,
   "metadata": {},
   "outputs": [],
   "source": [
    "wv_fm0 = get_word_vector(\"she is a [MASK]\", \"she\")\n",
    "wv_fm1 = get_word_vector(\"her is a [MASK]\", \"her\")\n",
    "wv_fm2 = get_word_vector(\"women is a [MASK]\", \"women\")\n",
    "wv_fm3 = get_word_vector(\"herself is a [MASK]\", \"herself\")\n",
    "wv_fm4 = get_word_vector(\"daughter is a [MASK]\", \"daughter\")\n",
    "wv_fm5 = get_word_vector(\"mother is a [MASK]\", \"mother\")\n",
    "wv_fm6 = get_word_vector(\"gal is a [MASK]\", \"gal\")\n",
    "wv_fm7 = get_word_vector(\"girl is a [MASK]\", \"girl\")\n",
    "wv_fm8 = get_word_vector(\"female is a [MASK]\", \"female\")"
   ]
  },
  {
   "cell_type": "code",
   "execution_count": 41,
   "metadata": {},
   "outputs": [],
   "source": [
    "wv_Fm0 = get_word_vector(\"She is a [MASK]\", \"She\")\n",
    "wv_Fm1 = get_word_vector(\"Her is a [MASK]\", \"Her\")\n",
    "wv_Fm2 = get_word_vector(\"Women is a [MASK]\", \"Women\")\n",
    "wv_Fm3 = get_word_vector(\"Herself is a [MASK]\", \"Herself\")\n",
    "wv_Fm4 = get_word_vector(\"Daughter is a [MASK]\", \"Daughter\")\n",
    "wv_Fm5 = get_word_vector(\"Mother is a [MASK]\", \"Mother\")\n",
    "wv_Fm6 = get_word_vector(\"Gal is a [MASK]\", \"Gal\")\n",
    "wv_Fm7 = get_word_vector(\"Girl is a [MASK]\", \"Girl\")\n",
    "wv_Fm8 = get_word_vector(\"Female is a [MASK]\", \"Female\")"
   ]
  },
  {
   "cell_type": "code",
   "execution_count": 31,
   "metadata": {},
   "outputs": [],
   "source": [
    "wv_m0 = get_word_vector(\"he is a [MASK]\", \"he\")\n",
    "wv_m1 = get_word_vector(\"his is a [MASK]\", \"his\")\n",
    "wv_m2 = get_word_vector(\"man is a [MASK]\", \"man\")\n",
    "wv_m3 = get_word_vector(\"himself is a [MASK]\", \"himself\")\n",
    "wv_m4 = get_word_vector(\"son is a [MASK]\", \"son\")\n",
    "wv_m5 = get_word_vector(\"father is a [MASK]\", \"father\")\n",
    "wv_m6 = get_word_vector(\"guy is a [MASK]\", \"guy\")\n",
    "wv_m7 = get_word_vector(\"boy is a [MASK]\", \"boy\")\n",
    "wv_m8 = get_word_vector(\"male is a [MASK]\", \"male\")"
   ]
  },
  {
   "cell_type": "code",
   "execution_count": 44,
   "metadata": {},
   "outputs": [],
   "source": [
    "wv_M0 = get_word_vector(\"He is a [MASK]\", \"He\")\n",
    "wv_M1 = get_word_vector(\"His is a [MASK]\", \"His\")\n",
    "wv_M2 = get_word_vector(\"Man is a [MASK]\", \"Man\")\n",
    "wv_M3 = get_word_vector(\"Himself is a [MASK]\", \"Himself\")\n",
    "wv_M4 = get_word_vector(\"Son is a [MASK]\", \"Son\")\n",
    "wv_M5 = get_word_vector(\"Father is a [MASK]\", \"Father\")\n",
    "wv_M6 = get_word_vector(\"Guy is a [MASK]\", \"Guy\")\n",
    "wv_M7 = get_word_vector(\"Boy is a [MASK]\", \"Boy\")\n",
    "wv_M8 = get_word_vector(\"Male is a [MASK]\", \"Male\")"
   ]
  },
  {
   "cell_type": "code",
   "execution_count": 35,
   "metadata": {},
   "outputs": [],
   "source": [
    "# def_pairs is like ('she','he')\n",
    "def sims(word):\n",
    "    w = []\n",
    "    career_words = to_words(word)\n",
    "    w2 = [\n",
    "        get_word_vector(f\"[MASK] is a {x}\", x) for x in career_words    \n",
    "    ]\n",
    "    sims_fm2 = [cosine_similarity(wv_fm0, wv) for wv in w2]+[cosine_similarity(wv_fm1, wv) for wv in w2]+[cosine_similarity(wv_fm2, wv) for wv in w2]+[cosine_similarity(wv_fm3, wv) for wv in w2]+[cosine_similarity(wv_fm4, wv) for wv in w2]+[cosine_similarity(wv_fm5, wv) for wv in w2]+[cosine_similarity(wv_fm6, wv) for wv in w2]+[cosine_similarity(wv_fm7, wv) for wv in w2]+[cosine_similarity(wv_fm8, wv) for wv in w2] #[cosine_similarity(wv_fm, wv) for wv in wvs2] +\\\n",
    "           \n",
    "    #print(sims_fm2)\n",
    "    sims_m2 = [cosine_similarity(wv_m0, wv) for wv in w2]+[cosine_similarity(wv_m1, wv) for wv in w2]+[cosine_similarity(wv_m2, wv) for wv in w2]+[cosine_similarity(wv_m3, wv) for wv in w2]+[cosine_similarity(wv_m4, wv) for wv in w2]+[cosine_similarity(wv_m5, wv) for wv in w2]+[cosine_similarity(wv_m6, wv) for wv in w2]+[cosine_similarity(wv_m7, wv) for wv in w2]+[cosine_similarity(wv_m8, wv) for wv in w2] #[cosine_similarity(wv_m, wv) for wv in wvs2] +\\\n",
    "          \n",
    "    #print(sims_m2)\n",
    "    for i in range(0,len(sims_m2)):\n",
    "        w.append(sims_fm2[i]-sims_m2[i])\n",
    "        #print(sims_fm2[i]-sims_m2[i])\n",
    "    return w"
   ]
  },
  {
   "cell_type": "code",
   "execution_count": 45,
   "metadata": {},
   "outputs": [
    {
     "name": "stdout",
     "output_type": "stream",
     "text": [
      "[-0.0040926635, 0.060631424, -0.015057802, 0.01847601, 0.024257213, 0.009351581, 0.023129046, 0.005240947, 0.0005130917]\n"
     ]
    }
   ],
   "source": [
    "# def_pairs is like ('She','He')\n",
    "def simsS(word):\n",
    "    w = []\n",
    "    career_words = to_words(word)\n",
    "    w2 = [\n",
    "        get_word_vector(f\"[MASK] is a {x}\", x) for x in career_words    \n",
    "    ]\n",
    "    sims_fm2 = [cosine_similarity(wv_Fm0, wv) for wv in w2]+[cosine_similarity(wv_Fm1, wv) for wv in w2]+[cosine_similarity(wv_Fm2, wv) for wv in w2]+[cosine_similarity(wv_Fm3, wv) for wv in w2]+[cosine_similarity(wv_Fm4, wv) for wv in w2]+[cosine_similarity(wv_Fm5, wv) for wv in w2]+[cosine_similarity(wv_Fm6, wv) for wv in w2]+[cosine_similarity(wv_Fm7, wv) for wv in w2]+[cosine_similarity(wv_Fm8, wv) for wv in w2] #[cosine_similarity(wv_fm, wv) for wv in wvs2] +\\\n",
    "    sims_m2 = [cosine_similarity(wv_M0, wv) for wv in w2]+[cosine_similarity(wv_M1, wv) for wv in w2]+[cosine_similarity(wv_M2, wv) for wv in w2]+[cosine_similarity(wv_M3, wv) for wv in w2]+[cosine_similarity(wv_M4, wv) for wv in w2]+[cosine_similarity(wv_M5, wv) for wv in w2]+[cosine_similarity(wv_M6, wv) for wv in w2]+[cosine_similarity(wv_M7, wv) for wv in w2]+[cosine_similarity(wv_M8, wv) for wv in w2] #[cosine_similarity(wv_m, wv) for wv in wvs2] +\\\n",
    "          \n",
    "    #print(sims_m2)\n",
    "    for i in range(0,len(sims_m2)):\n",
    "        w.append(sims_fm2[i]-sims_m2[i])\n",
    "        #print(sims_fm2[i]-sims_m2[i])\n",
    "    return w\n",
    "\n",
    "sco = simsS(\"professor\")\n",
    "print(sco)"
   ]
  },
  {
   "cell_type": "code",
   "execution_count": 36,
   "metadata": {
    "scrolled": false
   },
   "outputs": [
    {
     "name": "stdout",
     "output_type": "stream",
     "text": [
      "professor\n",
      "[-0.004621327, 0.0319691, -0.017730027, 0.0017459393, 0.017063588, 0.006316796, 0.033785075, 0.0034851134, -0.010385841]\n",
      "professors\n",
      "[-0.0038339496, 0.03226295, -0.011325687, -0.0012547374, 0.015317231, 0.004068017, 0.0328331, 0.0047691464, -0.009888887]\n",
      "Professor\n",
      "[-0.0046748817, 0.026656955, -0.017866313, 0.0017116368, 0.013873935, 0.005241126, 0.03694591, 0.0016005039, -0.011156499]\n",
      "PROFESSOR\n",
      "[-0.0064082444, 0.021609291, -0.022466153, -0.00085917115, 0.009486869, 0.00060002506, 0.03920245, 0.0032553375, -0.013092533]\n"
     ]
    },
    {
     "data": {
      "image/png": "[encoded data removed]",
      "text/plain": [
       "<Figure size 432x288 with 1 Axes>"
      ]
     },
     "metadata": {
      "needs_background": "light"
     },
     "output_type": "display_data"
    }
   ],
   "source": [
    "def_pairs = [('she','he'), ('her', 'his'), ('woman', 'man'), \n",
    "              ('herself', 'himself'),('daughter', 'son'), ('mother', 'father'), ('gal','guy'), \n",
    "              ('girl', 'boy'), ('female', 'male')]\n",
    "#oa_mean = -0.54284024\n",
    "#oa_std = 1.3037229\n",
    "def plural(word):\n",
    "    if word.endswith('y'):\n",
    "        return word[:-1] + 'ies'\n",
    "    elif word[-1] in 'sx' or word[-2:] in ['sh', 'ch']:\n",
    "        return word + 'es'\n",
    "    elif word.endswith('an'):\n",
    "        return word[:-2] + 'en'\n",
    "    else:\n",
    "        return word + 's'\n",
    "def prof_words(prof):\n",
    "    prof_words = [prof]\n",
    "    prof_words.append(plural(prof))\n",
    "    prof_words.append(prof.capitalize())\n",
    "    prof_words.append(prof.upper())\n",
    "    return prof_words\n",
    "\n",
    "length = len(def_pairs)\n",
    "x = np.arange(length)\n",
    "fig = plt.figure()\n",
    "ax = plt.subplot(111)\n",
    "graph_types = [\"-o\", \"-^\", \"-*\", \"-D\"]\n",
    "#scores = [\"-3.0180273\",\"-3.0180273\",\"0.171636\",\"-3.0180273\",\"-3.0180273\",\"-3.0180273\",\"-3.0180273\",\"-3.0180273\",\"-3.0180273\",\"-3.0180273\"]\n",
    "#plt.plot(x, scores, graph_types[0], label = word)\n",
    "gword_list = prof_words(\"professor\")\n",
    "for i,word in enumerate(gword_list):\n",
    "    print(word)\n",
    "    graph_type = graph_types[i]      \n",
    "    #plt.title(\"DB/WA\")\n",
    "    scores = sims(word)#([bias_score(\"GGG is a XXX.\", [pair[0], pair[1]], word)[2] for pair in def_pairs])\n",
    "    print(scores)\n",
    "    plt.plot(x, scores, graph_types[i], label = word)\n",
    "            \n",
    "#plt.plot(x, [oa_mean for i in range(length)], \"g--\", label = \"mean\")\n",
    "#plt.plot(x, [oa_mean-oa_std for i in range(length)], \"-.\",color = \"orange\", label = \"1 standard deviation\")\n",
    "#plt.plot(x, [oa_mean+oa_std for i in range(length)],  \"-.\",color = \"orange\", label =  \"\")\n",
    "#plt.plot(x, [oa_mean-2*oa_std for i in range(length)],  \"r:\", label = \"2 standard deviations\")\n",
    "#plt.plot(x, [oa_mean+2*oa_std for i in range(length)],  \"r:\", label = \"\")\n",
    "plt.xticks(x, def_pairs, rotation='vertical')\n",
    "\n",
    "#if leg == True:\n",
    "plt.legend()\n",
    "ax.legend(bbox_to_anchor=(1.05, 1.0))\n",
    "plt.show()"
   ]
  },
  {
   "cell_type": "code",
   "execution_count": null,
   "metadata": {},
   "outputs": [],
   "source": []
  },
  {
   "cell_type": "code",
   "execution_count": 72,
   "metadata": {},
   "outputs": [
    {
     "name": "stdout",
     "output_type": "stream",
     "text": [
      "WEAT\n",
      "0.31682322801024765\n",
      "nan\n",
      "0.357060849598163\n",
      "0.0\n",
      "nan\n",
      "-0.02841677943166432\n",
      "nan\n",
      "0.18186610437532946\n",
      "0.0\n",
      "& nan \n"
     ]
    }
   ],
   "source": [
    "# DIFFERENT FORMS BASE PAIRS ('herself', 'himself'),('daughter', 'son'), ('mother', 'father'), ('gal','guy'), ('girl', 'boy'), ('female', 'male')('herself', 'himself'),('daughter', 'son'), ('mother', 'father'),\n",
    "# compare profession scores with using capitalized versions of base pairs eg (she, he) vs (She, He)\n",
    "#import numpy as np\n",
    "#np.seterr(divide='ignore',invalid='ignore')\n",
    "\n",
    "def_pairs = [('she','he'), ('her', 'his'), ('woman', 'man'), \n",
    "              ('herself', 'himself'),('daughter', 'son'), ('mother', 'father'), ('gal','guy'), \n",
    "              ('girl', 'boy'), ('female', 'male')]\n",
    "cap_def_pairs = [(fp.capitalize(), mp.capitalize()) for fp,mp in def_pairs]\n",
    "# DIFFERENT FORMS BASE PAIRS\n",
    "# compare profession scores with using capitalized versions of base pairs eg (she, he) vs (She, He)\n",
    "from sklearn.metrics import cohen_kappa_score\n",
    "\n",
    "#cap_def_pairs = [(fp.capitalize(), mp.capitalize()) for fp,mp in def_pairs]\n",
    "# turn bias scores to directions (male or female)\n",
    "def make_binary(df):\n",
    "    binary_df = df.copy()\n",
    "    binary_df[binary_df<0] = 0\n",
    "    binary_df[binary_df>0] = 1\n",
    "    return binary_df\n",
    "\n",
    "# kappa for only two classes\n",
    "def cohen_kappa(orign_df, vary_df):\n",
    "    scores = []\n",
    "    for i in range(len(orign_df.columns)):\n",
    "        pair_cohen=cohen_kappa_score(orign_df[orign_df.columns[i]], vary_df[vary_df.columns[i]])\n",
    "        scores.append(pair_cohen)\n",
    "        print(pair_cohen)\n",
    "        #print('& %.2f '%(pair_cohen), end=' ')\n",
    "    print('& %.2f '%(np.mean(scores)))\n",
    "\n",
    "def make_weat_scores_dict(word_pairs, word_list):\n",
    "    weat_scores = {}\n",
    "    i = 0\n",
    "    for pair in word_pairs:\n",
    "        weat_scores[pair] = []\n",
    "    for word in word_list:\n",
    "        score = sims(word)#bias_score(\"GGG is a XXX.\", [pair[0], pair[1]], word)[2]#bdb(word, pair)\n",
    "        #print(score)\n",
    "        for pair in word_pairs:\n",
    "            #weat_scores[pair] = []\n",
    "            #print(pair)\n",
    "            #print(score[i])\n",
    "            weat_scores[pair].append(score[i])\n",
    "            i = i + 1\n",
    "        i = 0       \n",
    "    return weat_scores\n",
    "def make_Weat_scores_dict(word_pairs, word_list):\n",
    "    weat_scores = {}\n",
    "    i = 0\n",
    "    for pair in word_pairs:\n",
    "        weat_scores[pair] = []\n",
    "    for word in word_list:\n",
    "        score = simsS(word)#bias_score(\"GGG is a XXX.\", [pair[0], pair[1]], word)[2]#bdb(word, pair)\n",
    "        #print(score)\n",
    "        for pair in word_pairs:\n",
    "            weat_scores[pair].append(score[i])\n",
    "            i = i + 1\n",
    "        i = 0\n",
    "    return weat_scores\n",
    "\n",
    "# make score dataframes\n",
    "l1 = [\"worker\",\"profoessor\"]\n",
    "weat_profs_scores = make_weat_scores_dict(def_pairs, l)\n",
    "weat_profs_scores_cap = make_Weat_scores_dict(cap_def_pairs, l)\n",
    "\n",
    "df_weat_prof = pd.DataFrame.from_dict(weat_profs_scores, orient='index', columns = l).T\n",
    "df_weat_prof_cap = pd.DataFrame.from_dict(weat_profs_scores_cap, orient='index', columns = l).T\n",
    "\n",
    "#outputpath='C:/Users/Mac/Desktop/contextual_embedding_bias_measure-master/prof.csv'\n",
    "#df_weat_prof.to_csv(outputpath,sep=',',index=False,header=False)\n",
    "#outputpaths='C:/Users/Mac/Desktop/contextual_embedding_bias_measure-master/prof_cap.csv'\n",
    "#df_weat_prof_cap.to_csv(outputpaths,sep=',',index=False,header=False)\n",
    "\n",
    "print(\"WEAT\")\n",
    "cohen_kappa(make_binary(df_weat_prof),make_binary(df_weat_prof_cap))"
   ]
  },
  {
   "cell_type": "code",
   "execution_count": 69,
   "metadata": {},
   "outputs": [
    {
     "name": "stdout",
     "output_type": "stream",
     "text": [
      "Base vs Plural\n",
      "WEAT\n",
      "& 0.65  & nan  & 0.28  & 0.41  & nan  & 0.53  & nan  & 0.66  & nan  & nan \n"
     ]
    }
   ],
   "source": [
    "from sklearn.metrics import cohen_kappa_score\n",
    "def_pairs = [('she','he'), ('her', 'his'), ('woman', 'man'), \n",
    "              ('herself', 'himself'),('daughter', 'son'), ('mother', 'father'), ('gal','guy'), \n",
    "              ('girl', 'boy'), ('female', 'male')]\n",
    "def make_binary(df):\n",
    "    binary_df = df.copy()\n",
    "    binary_df[binary_df<0] = 0\n",
    "    binary_df[binary_df>0] = 1\n",
    "    return binary_df\n",
    "# kappa for only two classes\n",
    "def cohen_kappa(orign_df, vary_df):\n",
    "    scores = []\n",
    "    for i in range(len(orign_df.columns)):\n",
    "        pair_cohen=cohen_kappa_score(orign_df[orign_df.columns[i]], vary_df[vary_df.columns[i]])\n",
    "        scores.append(pair_cohen)\n",
    "        print('& %.2f '%(pair_cohen), end=' ')\n",
    "    print('& %.2f '%(np.mean(scores)))\n",
    "\n",
    "# base form words\n",
    "weat_profsvb_scores = make_weat_scores_dict(def_pairs, l)\n",
    "df_weat_profvb = pd.DataFrame.from_dict(weat_profsvb_scores, orient='index', columns = l).T\n",
    "\n",
    "\n",
    "# plural form words\n",
    "weat_profspl_scores = make_weat_scores_dict(def_pairs, professions_variants_pl)\n",
    "df_weat_profpl = pd.DataFrame.from_dict(weat_profspl_scores, orient='index', columns = l).T\n",
    "\n",
    "print(\"Base vs Plural\")\n",
    "print(\"WEAT\")\n",
    "cohen_kappa(make_binary(df_weat_profvb),make_binary(df_weat_profpl))"
   ]
  },
  {
   "cell_type": "code",
   "execution_count": 70,
   "metadata": {},
   "outputs": [
    {
     "name": "stdout",
     "output_type": "stream",
     "text": [
      "Base vs Capital\n",
      "LPBS\n",
      "& 0.58  & nan  & 0.50  & 0.45  & nan  & 0.26  & nan  & 0.43  & nan  & nan \n"
     ]
    }
   ],
   "source": [
    "weat_profscap_scores = make_weat_scores_dict(def_pairs, professions_variants_cap)\n",
    "df_weat_profcap = pd.DataFrame.from_dict(weat_profscap_scores, orient='index', columns = l).T\n",
    "\n",
    "print(\"Base vs Capital\")\n",
    "print(\"WEAT\")\n",
    "cohen_kappa(make_binary(df_weat_profvb),make_binary(df_weat_profcap))"
   ]
  },
  {
   "cell_type": "code",
   "execution_count": 71,
   "metadata": {},
   "outputs": [
    {
     "name": "stdout",
     "output_type": "stream",
     "text": [
      "Base vs Upper\n",
      "WEAT\n",
      "& -0.02  & nan  & 0.00  & -0.06  & nan  & 0.02  & nan  & 0.04  & nan  & nan \n"
     ]
    }
   ],
   "source": [
    "weat_profsupp_scores = make_weat_scores_dict(def_pairs, professions_variants_upper)\n",
    "df_weat_profupp = pd.DataFrame.from_dict(weat_profsupp_scores, orient='index', columns = l).T\n",
    "\n",
    "print(\"Base vs Upper\")\n",
    "print(\"WEAT\")\n",
    "cohen_kappa(make_binary(df_weat_profvb),make_binary(df_weat_profupp))"
   ]
  },
  {
   "cell_type": "code",
   "execution_count": null,
   "metadata": {},
   "outputs": [],
   "source": []
  }
 ],
 "metadata": {
  "kernelspec": {
   "display_name": "Python 3 (ipykernel)",
   "language": "python",
   "name": "python3"
  },
  "language_info": {
   "codemirror_mode": {
    "name": "ipython",
    "version": 3
   },
   "file_extension": ".py",
   "mimetype": "text/x-python",
   "name": "python",
   "nbconvert_exporter": "python",
   "pygments_lexer": "ipython3",
   "version": "3.7.12"
  }
 },
 "nbformat": 4,
 "nbformat_minor": 2
}
